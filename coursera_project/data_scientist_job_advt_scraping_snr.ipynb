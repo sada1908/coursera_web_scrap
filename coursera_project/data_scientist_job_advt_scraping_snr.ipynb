{
 "cells": [
  {
   "cell_type": "code",
   "execution_count": 1,
   "id": "ebe14413",
   "metadata": {},
   "outputs": [],
   "source": [
    "import requests\n",
    "from bs4 import BeautifulSoup\n",
    "\n",
    "https://in.indeed.com/jobs?q=data+scientist&l=Bengaluru%2C+Karnataka&from=searchOnHP&advn=233499551656184&vjk=72f9071abcf3367b"
   ]
  },
  {
   "cell_type": "code",
   "execution_count": 61,
   "id": "5912bde0",
   "metadata": {},
   "outputs": [],
   "source": [
    "location = \"Bengaluru+Karnataka\"\n",
    "position = \"data+scientist\""
   ]
  },
  {
   "cell_type": "code",
   "execution_count": 65,
   "id": "8dc830bc",
   "metadata": {
    "collapsed": true
   },
   "outputs": [
    {
     "name": "stdout",
     "output_type": "stream",
     "text": [
      "###Data Scientist, Product, Analytics and Operations\n",
      "$$$Google\n",
      "&&&Bengaluru+Karnataka\n",
      "###Associate Data Scientist\n",
      "$$$UnitedHealthcare\n",
      "&&&Bengaluru+Karnataka\n",
      "###AI / ML Engineer\n",
      "$$$Accenture\n",
      "&&&Bengaluru+Karnataka\n",
      "###Machine Learning (ML) Engineer\n",
      "$$$Hewlett Packard\n",
      "&&&Bengaluru+Karnataka\n",
      "###Software Engineer II, Machine Learning, Geo\n",
      "$$$Google\n",
      "&&&Bengaluru+Karnataka\n"
     ]
    },
    {
     "ename": "AttributeError",
     "evalue": "'NoneType' object has no attribute 'text'",
     "output_type": "error",
     "traceback": [
      "\u001b[0;31m---------------------------------------------------------------------------\u001b[0m",
      "\u001b[0;31mAttributeError\u001b[0m                            Traceback (most recent call last)",
      "Cell \u001b[0;32mIn[65], line 16\u001b[0m\n\u001b[1;32m     13\u001b[0m jobs \u001b[38;5;241m=\u001b[39m []\n\u001b[1;32m     14\u001b[0m \u001b[38;5;28;01mfor\u001b[39;00m job \u001b[38;5;129;01min\u001b[39;00m job_listings:\n\u001b[1;32m     15\u001b[0m     \u001b[38;5;66;03m# print(job.prettify)\u001b[39;00m\n\u001b[0;32m---> 16\u001b[0m     title \u001b[38;5;241m=\u001b[39m job\u001b[38;5;241m.\u001b[39mfind(\u001b[38;5;124m\"\u001b[39m\u001b[38;5;124mspan\u001b[39m\u001b[38;5;124m\"\u001b[39m,title \u001b[38;5;241m=\u001b[39m \u001b[38;5;28;01mTrue\u001b[39;00m)\u001b[38;5;241m.\u001b[39mtext\u001b[38;5;241m.\u001b[39mstrip()\n\u001b[1;32m     17\u001b[0m     \u001b[38;5;28mprint\u001b[39m(\u001b[38;5;124mf\u001b[39m\u001b[38;5;124m'\u001b[39m\u001b[38;5;124m###\u001b[39m\u001b[38;5;132;01m{\u001b[39;00mtitle\u001b[38;5;132;01m}\u001b[39;00m\u001b[38;5;124m'\u001b[39m)\n\u001b[1;32m     18\u001b[0m     company \u001b[38;5;241m=\u001b[39m job\u001b[38;5;241m.\u001b[39mfind(\u001b[38;5;124m\"\u001b[39m\u001b[38;5;124mspan\u001b[39m\u001b[38;5;124m\"\u001b[39m, class_\u001b[38;5;241m=\u001b[39m\u001b[38;5;124m\"\u001b[39m\u001b[38;5;124mcss-92r8pb eu4oa1w0\u001b[39m\u001b[38;5;124m\"\u001b[39m)\u001b[38;5;241m.\u001b[39mtext\u001b[38;5;241m.\u001b[39mstrip()\n",
      "\u001b[0;31mAttributeError\u001b[0m: 'NoneType' object has no attribute 'text'"
     ]
    }
   ],
   "source": [
    "\n",
    "base_url = \"https://in.indeed.com\"\n",
    "url = f\"{base_url}/jobs?q={position}&l={location}&sort=date\"\n",
    "\n",
    "headers = {\n",
    "    \"User-Agent\": \"Mozilla/5.0 (Windows NT 10.0; Win64; x64) AppleWebKit/537.36 (KHTML, like Gecko) Chrome/58.0.3029.110 Safari/537.3\"}\n",
    "\n",
    "response = requests.get(url, headers=headers)\n",
    "soup = BeautifulSoup(response.content, \"html.parser\")\n",
    "\n",
    "job_listings = soup.find_all(\"li\", class_=\"css-5lfssm eu4oa1w0\")\n",
    "\n",
    "\n",
    "jobs = []\n",
    "for job in job_listings:\n",
    "    \n",
    "    title = job.find(\"span\",title = True).text.strip()\n",
    "    \n",
    "    company = job.find(\"span\", class_=\"css-92r8pb eu4oa1w0\").text.strip()\n",
    "    \n",
    "    location = job.find(\"span\", class_=\"css-1p0sjhy eu4oa1w0\").text.strip()\n",
    "   \n",
    "    summary = job.find(\"div\", class_=\"css-9446fg eu4oa1w0\").text.strip()\n",
    "    date = job.find(\"span\", class_=\"css-10pe3me eu4oa1w0\").text.strip()\n",
    "    link = base_url + job.find(\"a\", class_=\"jobtitle\")[\"href\"]\n",
    "\n",
    "    jobs.append({\n",
    "        \"title\": title,\n",
    "        \"company\": company,\n",
    "        \"location\": location,\n",
    "        \"summary\" : summary\n",
    "        \"date\": date,\n",
    "        \"link\":link\n",
    "        })    "
   ]
  },
  {
   "cell_type": "code",
   "execution_count": 35,
   "id": "2771e596",
   "metadata": {},
   "outputs": [],
   "source": [
    "for job in jobs:\n",
    "    print(\"Title:\", job[\"title\"])\n",
    "    print(\"Company:\", job[\"company\"])\n",
    "    print(\"Location:\", job[\"location\"])\n",
    "    print(\"Summary:\", job[\"summary\"])\n",
    "    print(\"Date:\", job[\"date\"])\n",
    "    print(\"Link:\", job[\"link\"])\n",
    "    print(\"=\"*50)"
   ]
  },
  {
   "cell_type": "code",
   "execution_count": null,
   "id": "0dedee7f",
   "metadata": {},
   "outputs": [],
   "source": []
  }
 ],
 "metadata": {
  "kernelspec": {
   "display_name": "Python 3 (ipykernel)",
   "language": "python",
   "name": "python3"
  },
  "language_info": {
   "codemirror_mode": {
    "name": "ipython",
    "version": 3
   },
   "file_extension": ".py",
   "mimetype": "text/x-python",
   "name": "python",
   "nbconvert_exporter": "python",
   "pygments_lexer": "ipython3",
   "version": "3.11.5"
  }
 },
 "nbformat": 4,
 "nbformat_minor": 5
}
